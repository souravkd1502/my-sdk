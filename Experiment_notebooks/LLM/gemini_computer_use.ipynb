{
 "cells": [
  {
   "cell_type": "markdown",
   "id": "830237b0",
   "metadata": {},
   "source": [
    "# Introduction\n",
    "This notebook showcases how to use the Gemini Computer Use model to interact with a webpage, fill forms, and perform automated UI actions using screenshots and model-generated instructions.\n",
    "\n",
    "The Gemini 2.5 Computer Use model enables building **browser control agents** that can *see* a computer screen and *interact* with it via UI actions. It is ideal for automating tasks, testing web applications, and gathering data across websites.\n",
    "\n",
    "### **Core Concepts of Gemini Computer Use Model**\n",
    "\n",
    "### **1. Vision + Action**\n",
    "\n",
    "- The model is designed to **“see” the computer screen** using screenshots provided by the client.\n",
    "- Along with the screenshot, the model receives the **user’s request** (e.g., “fill out this form” or “click the submit button”).\n",
    "- Using this information, the model **analyzes the GUI** and decides the appropriate action to perform.\n",
    "- It then generates **UI actions** as structured outputs, similar to function calls, such as:\n",
    "    - `click(x, y)` → click at specific screen coordinates\n",
    "    - `type(\"text\")` → enter text in a field\n",
    "    - `scroll(direction, amount)` → scroll the page\n",
    "\n",
    "> Essentially, the model translates user intent and visual context into precise UI instructions.\n",
    "> \n",
    "\n",
    "---\n",
    "\n",
    "### **2. Client-Side Execution**\n",
    "\n",
    "- The model **does not directly interact** with the browser or operating system.\n",
    "- Instead, it provides **recommended actions** to your client-side application.\n",
    "- The client application is responsible for:\n",
    "    - Receiving the suggested UI actions.\n",
    "    - Executing them in the actual environment (web browser, desktop application, etc.).\n",
    "- This separation ensures that the **AI cannot accidentally perform unsafe actions**, and all execution is controlled by your application.\n",
    "\n",
    "---\n",
    "\n",
    "### **3. Safety System**\n",
    "\n",
    "- Every action proposed by the model is **evaluated for risk** by an internal safety system.\n",
    "- There are two main classifications:\n",
    "    1. **Allowed** – The action is deemed safe and can be executed automatically without further confirmation.\n",
    "    2. **Requires confirmation** – The action may have potential risk (e.g., clicking a popup or accepting a cookie banner). In this case, the client must **prompt the user** for approval before execution.\n",
    "\n",
    "> The safety system acts as a safeguard, ensuring that the agent cannot perform unintended or potentially harmful operations without oversight.\n",
    "> \n",
    "\n",
    "---\n",
    "\n",
    "### **Gemini Computer Use Model Workflow**\n",
    "\n",
    "### **1. Send Request to Model**\n",
    "\n",
    "- The client application prepares a request to the Gemini Computer Use model.\n",
    "- This request includes:\n",
    "    - **The Computer Use tool** – the core module that allows the model to interpret and act on GUI screens.\n",
    "    - **Custom or excluded functions** – optional instructions to restrict or extend the model’s possible actions.\n",
    "    - **User input / intent** – what the user wants the agent to do (e.g., “fill in this form”).\n",
    "    - **Screenshot of the current GUI** – provides visual context of the application or website the agent is interacting with.\n",
    "\n",
    "> Essentially, you are giving the model all the context it needs to make an informed decision about what action to take.\n",
    "> \n",
    "\n",
    "---\n",
    "\n",
    "### **2. Receive Model Response**\n",
    "\n",
    "- The model processes the user request and the screenshot to generate:\n",
    "    - **function_call** – a structured instruction representing a UI action (e.g., `click`, `type`, `scroll`).\n",
    "    - **safety_decision** (optional) – indicates whether the action is automatically safe or requires user confirmation.\n",
    "- The client application receives this response and prepares to act accordingly.\n",
    "\n",
    "---\n",
    "\n",
    "### **3. Execute Action in Client**\n",
    "\n",
    "- Based on the safety decision:\n",
    "    1. **Allowed** – The action is safe and can be executed immediately in the client environment (browser, desktop app, etc.).\n",
    "    2. **Requires confirmation** – The client must prompt the end user for approval.\n",
    "        - If the user **approves**, execute the action.\n",
    "        - If the user **denies**, skip execution and handle accordingly.\n",
    "\n",
    "> This step ensures human oversight for potentially risky actions and maintains safety in automated workflows.\n",
    "> \n",
    "\n",
    "---\n",
    "\n",
    "### **4. Capture New Environment State**\n",
    "\n",
    "- After executing the action (or skipping it if blocked/denied):\n",
    "    - Capture a **new screenshot** showing the updated GUI state.\n",
    "    - Record the **current URL** if interacting with a web application.\n",
    "    - Send this back to the model as part of a **function_response**, allowing it to continue reasoning based on the latest environment.\n",
    "- If the action was blocked or denied, you may:\n",
    "    - Send alternative feedback to the model, or\n",
    "    - End the interaction if no further actions are needed.\n",
    "\n",
    "> This step closes the loop and provides continuous context to the model, enabling multi-step automation and decision-making.\n",
    ">"
   ]
  },
  {
   "cell_type": "code",
   "execution_count": 5,
   "id": "976afc3a",
   "metadata": {},
   "outputs": [
    {
     "name": "stdout",
     "output_type": "stream",
     "text": [
      "Note: you may need to restart the kernel to use updated packages.\n",
      "Downloading Chromium 140.0.7339.16 (playwright build v1187)\u001b[2m from https://cdn.playwright.dev/dbazure/download/playwright/builds/chromium/1187/chromium-win64.zip\u001b[22m\n",
      "|                                                                                |   0% of 148.9 MiB\n",
      "|■■■■■■■■                                                                        |  10% of 148.9 MiB\n",
      "|■■■■■■■■■■■■■■■■                                                                |  20% of 148.9 MiB\n",
      "|■■■■■■■■■■■■■■■■■■■■■■■■                                                        |  30% of 148.9 MiB\n",
      "|■■■■■■■■■■■■■■■■■■■■■■■■■■■■■■■■                                                |  40% of 148.9 MiB\n",
      "|■■■■■■■■■■■■■■■■■■■■■■■■■■■■■■■■■■■■■■■■                                        |  50% of 148.9 MiB\n",
      "|■■■■■■■■■■■■■■■■■■■■■■■■■■■■■■■■■■■■■■■■■■■■■■■■                                |  60% of 148.9 MiB\n",
      "|■■■■■■■■■■■■■■■■■■■■■■■■■■■■■■■■■■■■■■■■■■■■■■■■■■■■■■■■                        |  70% of 148.9 MiB\n",
      "|■■■■■■■■■■■■■■■■■■■■■■■■■■■■■■■■■■■■■■■■■■■■■■■■■■■■■■■■■■■■■■■■                |  80% of 148.9 MiB\n",
      "|■■■■■■■■■■■■■■■■■■■■■■■■■■■■■■■■■■■■■■■■■■■■■■■■■■■■■■■■■■■■■■■■■■■■■■■■        |  90% of 148.9 MiB\n",
      "|■■■■■■■■■■■■■■■■■■■■■■■■■■■■■■■■■■■■■■■■■■■■■■■■■■■■■■■■■■■■■■■■■■■■■■■■■■■■■■■■| 100% of 148.9 MiB\n",
      "Chromium 140.0.7339.16 (playwright build v1187) downloaded to C:\\Users\\OMEN\\AppData\\Local\\ms-playwright\\chromium-1187\n",
      "Downloading Chromium Headless Shell 140.0.7339.16 (playwright build v1187)\u001b[2m from https://cdn.playwright.dev/dbazure/download/playwright/builds/chromium/1187/chromium-headless-shell-win64.zip\u001b[22m\n",
      "|                                                                                |   0% of 91.3 MiB\n",
      "|■■■■■■■■                                                                        |  10% of 91.3 MiB\n",
      "|■■■■■■■■■■■■■■■■                                                                |  20% of 91.3 MiB\n",
      "|■■■■■■■■■■■■■■■■■■■■■■■■                                                        |  30% of 91.3 MiB\n",
      "|■■■■■■■■■■■■■■■■■■■■■■■■■■■■■■■■                                                |  40% of 91.3 MiB\n",
      "|■■■■■■■■■■■■■■■■■■■■■■■■■■■■■■■■■■■■■■■■                                        |  50% of 91.3 MiB\n",
      "|■■■■■■■■■■■■■■■■■■■■■■■■■■■■■■■■■■■■■■■■■■■■■■■■                                |  60% of 91.3 MiB\n",
      "|■■■■■■■■■■■■■■■■■■■■■■■■■■■■■■■■■■■■■■■■■■■■■■■■■■■■■■■■                        |  70% of 91.3 MiB\n",
      "|■■■■■■■■■■■■■■■■■■■■■■■■■■■■■■■■■■■■■■■■■■■■■■■■■■■■■■■■■■■■■■■■                |  80% of 91.3 MiB\n",
      "|■■■■■■■■■■■■■■■■■■■■■■■■■■■■■■■■■■■■■■■■■■■■■■■■■■■■■■■■■■■■■■■■■■■■■■■■        |  90% of 91.3 MiB\n",
      "|■■■■■■■■■■■■■■■■■■■■■■■■■■■■■■■■■■■■■■■■■■■■■■■■■■■■■■■■■■■■■■■■■■■■■■■■■■■■■■■■| 100% of 91.3 MiB\n",
      "Chromium Headless Shell 140.0.7339.16 (playwright build v1187) downloaded to C:\\Users\\OMEN\\AppData\\Local\\ms-playwright\\chromium_headless_shell-1187\n"
     ]
    }
   ],
   "source": [
    "# Setup Gemini Computer Use demo environment quietly\n",
    "%pip install -q google-genai playwright\n",
    "!playwright install chromium"
   ]
  },
  {
   "cell_type": "code",
   "execution_count": 6,
   "id": "67c98328",
   "metadata": {},
   "outputs": [
    {
     "name": "stdout",
     "output_type": "stream",
     "text": [
      "GEMINI_API_KEY: True\n"
     ]
    }
   ],
   "source": [
    "# Read .env file and set environment variables\n",
    "import os\n",
    "from dotenv import load_dotenv\n",
    "\n",
    "load_dotenv(override=True)\n",
    "\n",
    "GEMINI_API_KEY = os.getenv(\"GEMINI_API_KEY\")\n",
    "print(\"GEMINI_API_KEY:\", GEMINI_API_KEY is not None)\n",
    "if not GEMINI_API_KEY:\n",
    "    raise ValueError(\n",
    "        \"GEMINI_API_KEY environment variable not set. Please set it in the .env file.\"\n",
    "    )"
   ]
  },
  {
   "cell_type": "code",
   "execution_count": 26,
   "id": "5578fe82",
   "metadata": {},
   "outputs": [
    {
     "ename": "NotImplementedError",
     "evalue": "",
     "output_type": "error",
     "traceback": [
      "\u001b[31m---------------------------------------------------------------------------\u001b[39m",
      "\u001b[31mNotImplementedError\u001b[39m                       Traceback (most recent call last)",
      "\u001b[36mCell\u001b[39m\u001b[36m \u001b[39m\u001b[32mIn[26]\u001b[39m\u001b[32m, line 3\u001b[39m\n\u001b[32m      1\u001b[39m \u001b[38;5;28;01mfrom\u001b[39;00m\u001b[38;5;250m \u001b[39m\u001b[34;01mplaywright\u001b[39;00m\u001b[34;01m.\u001b[39;00m\u001b[34;01masync_api\u001b[39;00m\u001b[38;5;250m \u001b[39m\u001b[38;5;28;01mimport\u001b[39;00m async_playwright\n\u001b[32m----> \u001b[39m\u001b[32m3\u001b[39m pw = \u001b[38;5;28;01mawait\u001b[39;00m async_playwright().start()\n\u001b[32m      4\u001b[39m browser = \u001b[38;5;28;01mawait\u001b[39;00m pw.chromium.launch(headless = \u001b[38;5;28;01mFalse\u001b[39;00m)\n\u001b[32m      5\u001b[39m page = \u001b[38;5;28;01mawait\u001b[39;00m browser.new_page()\n",
      "\u001b[36mFile \u001b[39m\u001b[32mc:\\Users\\OMEN\\Desktop\\Code\\my-sdk\\.venv\\Lib\\site-packages\\playwright\\async_api\\_context_manager.py:51\u001b[39m, in \u001b[36mPlaywrightContextManager.start\u001b[39m\u001b[34m(self)\u001b[39m\n\u001b[32m     50\u001b[39m \u001b[38;5;28;01masync\u001b[39;00m \u001b[38;5;28;01mdef\u001b[39;00m\u001b[38;5;250m \u001b[39m\u001b[34mstart\u001b[39m(\u001b[38;5;28mself\u001b[39m) -> AsyncPlaywright:\n\u001b[32m---> \u001b[39m\u001b[32m51\u001b[39m     \u001b[38;5;28;01mreturn\u001b[39;00m \u001b[38;5;28;01mawait\u001b[39;00m \u001b[38;5;28mself\u001b[39m.\u001b[34m__aenter__\u001b[39m()\n",
      "\u001b[36mFile \u001b[39m\u001b[32mc:\\Users\\OMEN\\Desktop\\Code\\my-sdk\\.venv\\Lib\\site-packages\\playwright\\async_api\\_context_manager.py:46\u001b[39m, in \u001b[36mPlaywrightContextManager.__aenter__\u001b[39m\u001b[34m(self)\u001b[39m\n\u001b[32m     44\u001b[39m \u001b[38;5;28;01mif\u001b[39;00m \u001b[38;5;129;01mnot\u001b[39;00m playwright_future.done():\n\u001b[32m     45\u001b[39m     playwright_future.cancel()\n\u001b[32m---> \u001b[39m\u001b[32m46\u001b[39m playwright = AsyncPlaywright(\u001b[38;5;28mnext\u001b[39m(\u001b[38;5;28miter\u001b[39m(done)).result())\n\u001b[32m     47\u001b[39m playwright.stop = \u001b[38;5;28mself\u001b[39m.\u001b[34m__aexit__\u001b[39m  \u001b[38;5;66;03m# type: ignore\u001b[39;00m\n\u001b[32m     48\u001b[39m \u001b[38;5;28;01mreturn\u001b[39;00m playwright\n",
      "\u001b[36mFile \u001b[39m\u001b[32mc:\\Users\\OMEN\\Desktop\\Code\\my-sdk\\.venv\\Lib\\site-packages\\playwright\\_impl\\_transport.py:120\u001b[39m, in \u001b[36mPipeTransport.connect\u001b[39m\u001b[34m(self)\u001b[39m\n\u001b[32m    117\u001b[39m         startupinfo.wShowWindow = subprocess.SW_HIDE\n\u001b[32m    119\u001b[39m     executable_path, entrypoint_path = compute_driver_executable()\n\u001b[32m--> \u001b[39m\u001b[32m120\u001b[39m     \u001b[38;5;28mself\u001b[39m._proc = \u001b[38;5;28;01mawait\u001b[39;00m asyncio.create_subprocess_exec(\n\u001b[32m    121\u001b[39m         executable_path,\n\u001b[32m    122\u001b[39m         entrypoint_path,\n\u001b[32m    123\u001b[39m         \u001b[33m\"\u001b[39m\u001b[33mrun-driver\u001b[39m\u001b[33m\"\u001b[39m,\n\u001b[32m    124\u001b[39m         stdin=asyncio.subprocess.PIPE,\n\u001b[32m    125\u001b[39m         stdout=asyncio.subprocess.PIPE,\n\u001b[32m    126\u001b[39m         stderr=_get_stderr_fileno(),\n\u001b[32m    127\u001b[39m         limit=\u001b[32m32768\u001b[39m,\n\u001b[32m    128\u001b[39m         env=env,\n\u001b[32m    129\u001b[39m         startupinfo=startupinfo,\n\u001b[32m    130\u001b[39m     )\n\u001b[32m    131\u001b[39m \u001b[38;5;28;01mexcept\u001b[39;00m \u001b[38;5;167;01mException\u001b[39;00m \u001b[38;5;28;01mas\u001b[39;00m exc:\n\u001b[32m    132\u001b[39m     \u001b[38;5;28mself\u001b[39m.on_error_future.set_exception(exc)\n",
      "\u001b[36mFile \u001b[39m\u001b[32mC:\\Program Files\\WindowsApps\\PythonSoftwareFoundation.Python.3.11_3.11.2544.0_x64__qbz5n2kfra8p0\\Lib\\asyncio\\subprocess.py:223\u001b[39m, in \u001b[36mcreate_subprocess_exec\u001b[39m\u001b[34m(program, stdin, stdout, stderr, limit, *args, **kwds)\u001b[39m\n\u001b[32m    220\u001b[39m loop = events.get_running_loop()\n\u001b[32m    221\u001b[39m protocol_factory = \u001b[38;5;28;01mlambda\u001b[39;00m: SubprocessStreamProtocol(limit=limit,\n\u001b[32m    222\u001b[39m                                                     loop=loop)\n\u001b[32m--> \u001b[39m\u001b[32m223\u001b[39m transport, protocol = \u001b[38;5;28;01mawait\u001b[39;00m loop.subprocess_exec(\n\u001b[32m    224\u001b[39m     protocol_factory,\n\u001b[32m    225\u001b[39m     program, *args,\n\u001b[32m    226\u001b[39m     stdin=stdin, stdout=stdout,\n\u001b[32m    227\u001b[39m     stderr=stderr, **kwds)\n\u001b[32m    228\u001b[39m \u001b[38;5;28;01mreturn\u001b[39;00m Process(transport, protocol, loop)\n",
      "\u001b[36mFile \u001b[39m\u001b[32mC:\\Program Files\\WindowsApps\\PythonSoftwareFoundation.Python.3.11_3.11.2544.0_x64__qbz5n2kfra8p0\\Lib\\asyncio\\base_events.py:1708\u001b[39m, in \u001b[36mBaseEventLoop.subprocess_exec\u001b[39m\u001b[34m(self, protocol_factory, program, stdin, stdout, stderr, universal_newlines, shell, bufsize, encoding, errors, text, *args, **kwargs)\u001b[39m\n\u001b[32m   1706\u001b[39m     debug_log = \u001b[33mf\u001b[39m\u001b[33m'\u001b[39m\u001b[33mexecute program \u001b[39m\u001b[38;5;132;01m{\u001b[39;00mprogram\u001b[38;5;132;01m!r}\u001b[39;00m\u001b[33m'\u001b[39m\n\u001b[32m   1707\u001b[39m     \u001b[38;5;28mself\u001b[39m._log_subprocess(debug_log, stdin, stdout, stderr)\n\u001b[32m-> \u001b[39m\u001b[32m1708\u001b[39m transport = \u001b[38;5;28;01mawait\u001b[39;00m \u001b[38;5;28mself\u001b[39m._make_subprocess_transport(\n\u001b[32m   1709\u001b[39m     protocol, popen_args, \u001b[38;5;28;01mFalse\u001b[39;00m, stdin, stdout, stderr,\n\u001b[32m   1710\u001b[39m     bufsize, **kwargs)\n\u001b[32m   1711\u001b[39m \u001b[38;5;28;01mif\u001b[39;00m \u001b[38;5;28mself\u001b[39m._debug \u001b[38;5;129;01mand\u001b[39;00m debug_log \u001b[38;5;129;01mis\u001b[39;00m \u001b[38;5;129;01mnot\u001b[39;00m \u001b[38;5;28;01mNone\u001b[39;00m:\n\u001b[32m   1712\u001b[39m     logger.info(\u001b[33m'\u001b[39m\u001b[38;5;132;01m%s\u001b[39;00m\u001b[33m: \u001b[39m\u001b[38;5;132;01m%r\u001b[39;00m\u001b[33m'\u001b[39m, debug_log, transport)\n",
      "\u001b[36mFile \u001b[39m\u001b[32mC:\\Program Files\\WindowsApps\\PythonSoftwareFoundation.Python.3.11_3.11.2544.0_x64__qbz5n2kfra8p0\\Lib\\asyncio\\base_events.py:503\u001b[39m, in \u001b[36mBaseEventLoop._make_subprocess_transport\u001b[39m\u001b[34m(self, protocol, args, shell, stdin, stdout, stderr, bufsize, extra, **kwargs)\u001b[39m\n\u001b[32m    499\u001b[39m \u001b[38;5;28;01masync\u001b[39;00m \u001b[38;5;28;01mdef\u001b[39;00m\u001b[38;5;250m \u001b[39m\u001b[34m_make_subprocess_transport\u001b[39m(\u001b[38;5;28mself\u001b[39m, protocol, args, shell,\n\u001b[32m    500\u001b[39m                                      stdin, stdout, stderr, bufsize,\n\u001b[32m    501\u001b[39m                                      extra=\u001b[38;5;28;01mNone\u001b[39;00m, **kwargs):\n\u001b[32m    502\u001b[39m \u001b[38;5;250m    \u001b[39m\u001b[33;03m\"\"\"Create subprocess transport.\"\"\"\u001b[39;00m\n\u001b[32m--> \u001b[39m\u001b[32m503\u001b[39m     \u001b[38;5;28;01mraise\u001b[39;00m \u001b[38;5;167;01mNotImplementedError\u001b[39;00m\n",
      "\u001b[31mNotImplementedError\u001b[39m: "
     ]
    }
   ],
   "source": [
    "from playwright.async_api import async_playwright\n",
    "\n",
    "pw = await async_playwright().start()\n",
    "browser = await pw.chromium.launch(headless = False)\n",
    "page = await browser.new_page()\n",
    "\n",
    "await page.goto(\"https://scrapingbee.com/\")"
   ]
  },
  {
   "cell_type": "code",
   "execution_count": null,
   "id": "b51dbfda",
   "metadata": {},
   "outputs": [],
   "source": []
  }
 ],
 "metadata": {
  "kernelspec": {
   "display_name": ".venv",
   "language": "python",
   "name": "python3"
  },
  "language_info": {
   "codemirror_mode": {
    "name": "ipython",
    "version": 3
   },
   "file_extension": ".py",
   "mimetype": "text/x-python",
   "name": "python",
   "nbconvert_exporter": "python",
   "pygments_lexer": "ipython3",
   "version": "3.11.9"
  }
 },
 "nbformat": 4,
 "nbformat_minor": 5
}
