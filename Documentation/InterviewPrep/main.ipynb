{
 "cells": [
  {
   "cell_type": "code",
   "execution_count": 1,
   "metadata": {},
   "outputs": [
    {
     "name": "stdout",
     "output_type": "stream",
     "text": [
      "Requirement already satisfied: openai in /home/sourav/code/my-sdk/.venv/lib/python3.12/site-packages (1.59.3)\n",
      "Requirement already satisfied: anyio<5,>=3.5.0 in /home/sourav/code/my-sdk/.venv/lib/python3.12/site-packages (from openai) (4.8.0)\n",
      "Requirement already satisfied: distro<2,>=1.7.0 in /home/sourav/code/my-sdk/.venv/lib/python3.12/site-packages (from openai) (1.9.0)\n",
      "Requirement already satisfied: httpx<1,>=0.23.0 in /home/sourav/code/my-sdk/.venv/lib/python3.12/site-packages (from openai) (0.28.1)\n",
      "Requirement already satisfied: jiter<1,>=0.4.0 in /home/sourav/code/my-sdk/.venv/lib/python3.12/site-packages (from openai) (0.8.2)\n",
      "Requirement already satisfied: pydantic<3,>=1.9.0 in /home/sourav/code/my-sdk/.venv/lib/python3.12/site-packages (from openai) (2.10.5)\n",
      "Requirement already satisfied: sniffio in /home/sourav/code/my-sdk/.venv/lib/python3.12/site-packages (from openai) (1.3.1)\n",
      "Requirement already satisfied: tqdm>4 in /home/sourav/code/my-sdk/.venv/lib/python3.12/site-packages (from openai) (4.67.1)\n",
      "Requirement already satisfied: typing-extensions<5,>=4.11 in /home/sourav/code/my-sdk/.venv/lib/python3.12/site-packages (from openai) (4.12.2)\n",
      "Requirement already satisfied: idna>=2.8 in /home/sourav/code/my-sdk/.venv/lib/python3.12/site-packages (from anyio<5,>=3.5.0->openai) (3.10)\n",
      "Requirement already satisfied: certifi in /home/sourav/code/my-sdk/.venv/lib/python3.12/site-packages (from httpx<1,>=0.23.0->openai) (2024.12.14)\n",
      "Requirement already satisfied: httpcore==1.* in /home/sourav/code/my-sdk/.venv/lib/python3.12/site-packages (from httpx<1,>=0.23.0->openai) (1.0.7)\n",
      "Requirement already satisfied: h11<0.15,>=0.13 in /home/sourav/code/my-sdk/.venv/lib/python3.12/site-packages (from httpcore==1.*->httpx<1,>=0.23.0->openai) (0.14.0)\n",
      "Requirement already satisfied: annotated-types>=0.6.0 in /home/sourav/code/my-sdk/.venv/lib/python3.12/site-packages (from pydantic<3,>=1.9.0->openai) (0.7.0)\n",
      "Requirement already satisfied: pydantic-core==2.27.2 in /home/sourav/code/my-sdk/.venv/lib/python3.12/site-packages (from pydantic<3,>=1.9.0->openai) (2.27.2)\n",
      "\n",
      "\u001b[1m[\u001b[0m\u001b[34;49mnotice\u001b[0m\u001b[1;39;49m]\u001b[0m\u001b[39;49m A new release of pip is available: \u001b[0m\u001b[31;49m24.3.1\u001b[0m\u001b[39;49m -> \u001b[0m\u001b[32;49m25.0.1\u001b[0m\n",
      "\u001b[1m[\u001b[0m\u001b[34;49mnotice\u001b[0m\u001b[1;39;49m]\u001b[0m\u001b[39;49m To update, run: \u001b[0m\u001b[32;49mpip install --upgrade pip\u001b[0m\n"
     ]
    }
   ],
   "source": [
    "! pip install openai"
   ]
  },
  {
   "cell_type": "code",
   "execution_count": 2,
   "metadata": {},
   "outputs": [],
   "source": [
    "from openai import OpenAI\n",
    "import json\n",
    "import os\n",
    "\n",
    "def generate_markdown_answer(question: str, output_file: str):\n",
    "    \"\"\"\n",
    "    Generates a detailed answer in Markdown format using OpenAI's o3-mini model and saves it to a file.\n",
    "\n",
    "    :param question: The question to ask the model.\n",
    "    :param output_file: The file path to save the answer.\n",
    "    \"\"\"\n",
    "    try:\n",
    "        client = OpenAI(\n",
    "            api_key=\"sk-proj-tVCe763g16b3TujhlYWGT3BlbkFJV3DbNPZoqcHBx0sgUwEP\"\n",
    "        )\n",
    "        response = client.chat.completions.create(\n",
    "            model=\"o3-mini\",  # Using o3-mini model\n",
    "            messages=[\n",
    "                {\"role\": \"system\", \"content\": \"You are an advanced AI assistant. Use a Chain of Thought (CoT) approach to generate a highly detailed answer. Break the reasoning into clear steps, provide explanations, and include supporting data such as tables, equations, or code snippets where applicable. Format the entire response properly in Markdown.\"},\n",
    "                {\"role\": \"user\", \"content\": question}\n",
    "            ],\n",
    "        )\n",
    "\n",
    "        response = response.to_dict()\n",
    "        answer = response[\"choices\"][0][\"message\"][\"content\"]\n",
    "        \n",
    "        # Ensure Markdown formatting integrity\n",
    "        markdown_content = f\"# Answer\\n\\n{answer}\\n\"\n",
    "\n",
    "        with open(output_file, \"a\", encoding=\"utf-8\") as file:\n",
    "            file.write(markdown_content)\n",
    "\n",
    "        print(f\"Answer saved to {output_file}\")\n",
    "    \n",
    "    except Exception as e:\n",
    "        print(f\"Error: {e}\")"
   ]
  },
  {
   "cell_type": "code",
   "execution_count": 5,
   "metadata": {},
   "outputs": [
    {
     "name": "stdout",
     "output_type": "stream",
     "text": [
      "Answer saved to python_best_practices_interview_questions.md\n",
      "Answer saved to python_best_practices_interview_questions.md\n",
      "Answer saved to python_best_practices_interview_questions.md\n",
      "Answer saved to python_best_practices_interview_questions.md\n",
      "Answer saved to python_best_practices_interview_questions.md\n",
      "Answer saved to python_best_practices_interview_questions.md\n",
      "Answer saved to python_best_practices_interview_questions.md\n",
      "Answer saved to python_best_practices_interview_questions.md\n",
      "Answer saved to python_best_practices_interview_questions.md\n",
      "Answer saved to python_best_practices_interview_questions.md\n"
     ]
    }
   ],
   "source": [
    "questions = [\n",
    "    \"Write a Pythonic implementation of the observer pattern using decorators.\",\n",
    "    \"Use `logging` module instead of print statements for debugging in production.\",\n",
    "    \"Handle exceptions gracefully in a data pipeline (e.g., retries, alerts, logging).\",\n",
    "    \"Structure a Python project for modularity (e.g., `setup.py`, `requirements.txt`, modules).\",\n",
    "    \"How do you manage configuration files (e.g., YAML/JSON) in a project?\",\n",
    "    \"Write unit tests for a data preprocessing function using `pytest` and fixtures.\",\n",
    "    \"Rewrite a non-Pythonic loop using built-in functions (e.g., `zip`, `enumerate`).\",\n",
    "    \"How do you profile Python code to find bottlenecks?\",\n",
    "    \"What are type hints? How do you use them in Python 3.10+?\",\n",
    "    \"Explain the use of `virtualenv`, `pipenv`, or `poetry` for dependency management.\"\n",
    "]\n",
    "\n",
    "for question in questions:\n",
    "    generate_markdown_answer(question, \"python_best_practices_interview_questions.md\")"
   ]
  },
  {
   "cell_type": "code",
   "execution_count": null,
   "metadata": {},
   "outputs": [],
   "source": []
  }
 ],
 "metadata": {
  "kernelspec": {
   "display_name": ".venv",
   "language": "python",
   "name": "python3"
  },
  "language_info": {
   "codemirror_mode": {
    "name": "ipython",
    "version": 3
   },
   "file_extension": ".py",
   "mimetype": "text/x-python",
   "name": "python",
   "nbconvert_exporter": "python",
   "pygments_lexer": "ipython3",
   "version": "3.12.3"
  }
 },
 "nbformat": 4,
 "nbformat_minor": 2
}
